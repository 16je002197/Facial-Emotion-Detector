{
 "cells": [
  {
   "cell_type": "code",
   "execution_count": 1,
   "metadata": {},
   "outputs": [
    {
     "name": "stderr",
     "output_type": "stream",
     "text": [
      "C:\\Users\\Banipreet\\Anaconda3\\lib\\site-packages\\h5py\\__init__.py:36: FutureWarning: Conversion of the second argument of issubdtype from `float` to `np.floating` is deprecated. In future, it will be treated as `np.float64 == np.dtype(float).type`.\n",
      "  from ._conv import register_converters as _register_converters\n",
      "Using TensorFlow backend.\n"
     ]
    }
   ],
   "source": [
    "from glob import glob\n",
    "import cv2\n",
    "import numpy as np\n",
    "import keras\n",
    "from keras.models import Model\n",
    "from keras.layers import Input, Activation, Dense\n",
    "import matplotlib.pyplot as plt\n",
    "from scipy import spatial"
   ]
  },
  {
   "cell_type": "code",
   "execution_count": 2,
   "metadata": {},
   "outputs": [],
   "source": [
    "X = {}\n",
    "emotions = ['AN', 'SA', 'SU', 'HA', 'DI', 'FE', 'NE']\n",
    "data = np.array(glob('dataset/JAFFE/*'))"
   ]
  },
  {
   "cell_type": "code",
   "execution_count": 3,
   "metadata": {},
   "outputs": [],
   "source": [
    "for e in emotions:\n",
    "    l = []\n",
    "    for d in data:\n",
    "        if e in d:\n",
    "            l.append(d)\n",
    "    X[e] = l"
   ]
  },
  {
   "cell_type": "code",
   "execution_count": 4,
   "metadata": {},
   "outputs": [],
   "source": [
    "def AutoModel():\n",
    "    inputs = Input(shape = (4096, ))\n",
    "    encoder = Dense(2800)(inputs)\n",
    "    encoder = Dense(500)(encoder)\n",
    "    decoder = Dense(2800)(encoder)\n",
    "    decoder = Dense(4096)(decoder)\n",
    "    model = Model(input = inputs, output = decoder)\n",
    "    return model"
   ]
  },
  {
   "cell_type": "code",
   "execution_count": 5,
   "metadata": {},
   "outputs": [
    {
     "name": "stderr",
     "output_type": "stream",
     "text": [
      "C:\\Users\\Banipreet\\Anaconda3\\lib\\site-packages\\ipykernel_launcher.py:7: UserWarning: Update your `Model` call to the Keras 2 API: `Model(inputs=Tensor(\"in..., outputs=Tensor(\"de...)`\n",
      "  import sys\n"
     ]
    }
   ],
   "source": [
    "models = {}\n",
    "for e in emotions:\n",
    "    models[e] = AutoModel()"
   ]
  },
  {
   "cell_type": "code",
   "execution_count": 6,
   "metadata": {},
   "outputs": [],
   "source": [
    "from keras.preprocessing.image import ImageDataGenerator\n",
    "train_datagen = ImageDataGenerator(rescale=1./255,\n",
    "        shear_range=0.001,\n",
    "        zoom_range=0.02,\n",
    "        rotation_range=1,\n",
    "        horizontal_flip=True)\n",
    "\n",
    "test_datagen = ImageDataGenerator(rescale=1./255)"
   ]
  },
  {
   "cell_type": "code",
   "execution_count": 7,
   "metadata": {},
   "outputs": [],
   "source": [
    "from sklearn.model_selection import train_test_split\n",
    "X_test_files = {}\n",
    "X_train_files = {}\n",
    "for e in emotions:\n",
    "    tr_files, te_files = train_test_split(X[e], test_size=0.25)\n",
    "    X_test_files[e] = te_files\n",
    "    X_train_files[e] = tr_files"
   ]
  },
  {
   "cell_type": "code",
   "execution_count": 8,
   "metadata": {},
   "outputs": [],
   "source": [
    "from skimage import io,color\n",
    "X_test = {}\n",
    "X_train = {}\n",
    "for e in emotions:\n",
    "    l = []\n",
    "    for img_path in X_train_files[e]:\n",
    "        img = io.imread(img_path)\n",
    "        img = cv2.resize(img,(64,64))\n",
    "        if len(img.shape) == 3: img = color.rgb2gray(img)\n",
    "        l.append(img)\n",
    "    X_train[e] = np.array(l)\n",
    "    X_train[e] = X_train[e].reshape(X_train[e].shape+(1,))\n",
    "    l = []\n",
    "    for img_path in X_test_files[e]:\n",
    "        img = io.imread(img_path)\n",
    "        img = cv2.resize(img,(64,64))\n",
    "        if len(img.shape) == 3: img = color.rgb2gray(img)\n",
    "        l.append(img)\n",
    "    X_test[e] = np.array(l)\n",
    "    X_test[e] = X_test[e].reshape(X_test[e].shape+(1,))"
   ]
  },
  {
   "cell_type": "code",
   "execution_count": 9,
   "metadata": {},
   "outputs": [],
   "source": [
    "def generator(gen):\n",
    "    for x in gen:\n",
    "        x = x.reshape([x.shape[0],-1])\n",
    "        yield (x,x)"
   ]
  },
  {
   "cell_type": "code",
   "execution_count": 10,
   "metadata": {},
   "outputs": [
    {
     "data": {
      "text/plain": [
       "\"epochs = 10\\ncnt = 0\\nfor e in emotions:\\n    if e!= 'NE': continue\\n    print('Autoencoder Emotion '+e)\\n    train_datagen.fit(X_train[e])\\n    test_datagen.fit(X_test[e])\\n    train_generator = train_datagen.flow(X_train[e])\\n    test_generator = test_datagen.flow(X_test[e])\\n    \\n    print(e+' emotion autoencoder')\\n    models[e].compile(optimizer='adam', loss='mse')\\n    models[e].fit_generator(generator(train_generator),\\n                            steps_per_epoch=100,\\n                            epochs=epochs,\\n                            validation_data=generator(test_generator),\\n                            validation_steps=20)\\n    models[e].save_weights('weights'+e+'4.h5')\\n\""
      ]
     },
     "execution_count": 10,
     "metadata": {},
     "output_type": "execute_result"
    }
   ],
   "source": [
    "#remove the quotes (uncomment) for training.\n",
    "#use the already trained weights for the autoencoder\n",
    "\"\"\"epochs = 10\n",
    "cnt = 0\n",
    "for e in emotions:\n",
    "    if e!= 'NE': continue\n",
    "    print('Autoencoder Emotion '+e)\n",
    "    train_datagen.fit(X_train[e])\n",
    "    test_datagen.fit(X_test[e])\n",
    "    train_generator = train_datagen.flow(X_train[e])\n",
    "    test_generator = test_datagen.flow(X_test[e])\n",
    "    \n",
    "    print(e+' emotion autoencoder')\n",
    "    models[e].compile(optimizer='adam', loss='mse')\n",
    "    models[e].fit_generator(generator(train_generator),\n",
    "                            steps_per_epoch=100,\n",
    "                            epochs=epochs,\n",
    "                            validation_data=generator(test_generator),\n",
    "                            validation_steps=20)\n",
    "    models[e].save_weights('weights'+e+'4.h5')\n",
    "\"\"\"\n",
    "    "
   ]
  },
  {
   "cell_type": "code",
   "execution_count": 11,
   "metadata": {},
   "outputs": [],
   "source": [
    "def accuracy(dataset):\n",
    "    correct = 0\n",
    "    total = 0\n",
    "    for e in emotions:\n",
    "        for img in dataset[e]:\n",
    "            total = total+1\n",
    "            img = img.reshape([1,-1])\n",
    "            img = img/255\n",
    "            li = []\n",
    "            for k in emotions:\n",
    "                val = models[k].predict(img)\n",
    "                li.append(1-spatial.distance.cosine(val, img))\n",
    "            li = np.array(li)\n",
    "            p = li.argmax()\n",
    "            if emotions[p] == e: correct = correct+1\n",
    "    return correct/total * 100"
   ]
  },
  {
   "cell_type": "code",
   "execution_count": 12,
   "metadata": {},
   "outputs": [],
   "source": [
    "#reload the weights\n",
    "for e in emotions:\n",
    "    models[e].load_weights('weights'+e+'4.h5')"
   ]
  },
  {
   "cell_type": "code",
   "execution_count": 13,
   "metadata": {},
   "outputs": [
    {
     "name": "stdout",
     "output_type": "stream",
     "text": [
      "Train accuracy 47.94520547945205%\n",
      "Test accuracy 52.94117647058824%\n"
     ]
    }
   ],
   "source": [
    "#Testing part\n",
    "print('Train accuracy '+str(accuracy(X_train))+'%')\n",
    "print('Test accuracy '+str(accuracy(X_test))+'%')        "
   ]
  },
  {
   "cell_type": "code",
   "execution_count": null,
   "metadata": {},
   "outputs": [],
   "source": []
  }
 ],
 "metadata": {
  "kernelspec": {
   "display_name": "Python 3",
   "language": "python",
   "name": "python3"
  },
  "language_info": {
   "codemirror_mode": {
    "name": "ipython",
    "version": 3
   },
   "file_extension": ".py",
   "mimetype": "text/x-python",
   "name": "python",
   "nbconvert_exporter": "python",
   "pygments_lexer": "ipython3",
   "version": "3.6.4"
  }
 },
 "nbformat": 4,
 "nbformat_minor": 2
}
